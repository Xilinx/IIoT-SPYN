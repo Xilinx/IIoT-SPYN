{
 "cells": [
  {
   "cell_type": "markdown",
   "metadata": {
    "hide_input": false
   },
   "source": [
    "# SPYNX - III phase PMSM motor control"
   ]
  },
  {
   "cell_type": "markdown",
   "metadata": {},
   "source": [
    "<div class=\"alert bg-primary\">This notebook will show control of a 3-phase AC motor using the EDPS (The Electric Drive Power Stage (EDPS) Board, a Trenz Electronic TEC0053, which is connected to the PYNQ-Z1 controller board for the evaluation..</div>"
   ]
  },
  {
   "cell_type": "markdown",
   "metadata": {},
   "source": [
    "![](./images/motor.png)"
   ]
  },
  {
   "cell_type": "markdown",
   "metadata": {},
   "source": [
    " ## Objectives\n",
    " \n",
    " * [Access to Motor Control Parameters](#Step-2:-Instantiate-the-motor-control-object )\n",
    " * [Request Status Information of the Motor](#Step-4:-Read-status-registers)\n",
    " * [Programmatic Control of Motor](#Programmatic-Control-of-Motor)\n",
    " * [Continuous Status Capture from the Motor](#Step-5:-Allocate-DMA-for-stream-capture)\n",
    " * [Plots to Visualize Data Captured](#Plotting)\n",
    " * [Storing Captured Data for Analytics](#Dataframes-for-analytics)\n",
    " * [Live Interactive Plots to Investigate Data](#DASH-Demo)\n",
    " "
   ]
  },
  {
   "cell_type": "markdown",
   "metadata": {},
   "source": [
    "### Step 1: Download the modified `EDDP` bitstream"
   ]
  },
  {
   "cell_type": "code",
   "execution_count": null,
   "metadata": {
    "code_folding": [
     3
    ]
   },
   "outputs": [],
   "source": [
    "from pynq import Overlay\n",
    "from pynq import MMIO\n",
    "import numpy as np\n",
    "overlay = Overlay(\"/usr/local/lib/python3.6/dist-packages/spynx/overlays/SPYNX.bit\")\n",
    "    #overlay.download()\n",
    "    #overlay?\n",
    "    #overlay._ip_map"
   ]
  },
  {
   "cell_type": "markdown",
   "metadata": {},
   "source": [
    "### Step 2: Instantiate the motor control object \n",
    "#### Load the motor control library"
   ]
  },
  {
   "cell_type": "code",
   "execution_count": null,
   "metadata": {
    "code_folding": [],
    "hide_input": false,
    "scrolled": true
   },
   "outputs": [],
   "source": [
    "#import SPYNX library\n",
    "from spynx.lib import *\n",
    "motor = Motor_Controller()\n",
    "print(f'Available motor modes : {motor.motor_modes}')\n",
    "#motor?"
   ]
  },
  {
   "cell_type": "code",
   "execution_count": null,
   "metadata": {
    "hide_input": true
   },
   "outputs": [],
   "source": [
    "print(f'Memory mapped IO blocks : {motor.mmio_blocks}')"
   ]
  },
  {
   "cell_type": "markdown",
   "metadata": {},
   "source": [
    "#### Initialization of the Encoder (find 0 position)"
   ]
  },
  {
   "cell_type": "code",
   "execution_count": null,
   "metadata": {
    "code_folding": [
     0
    ]
   },
   "outputs": [],
   "source": [
    "# initialize the encoder\n",
    "import time\n",
    "motor.set_mode('init_mode')\n",
    "time.sleep(4)\n",
    "motor.set_mode('reset_mode')"
   ]
  },
  {
   "cell_type": "markdown",
   "metadata": {},
   "source": [
    "### Step 3: Set motor control mode and control using sliders"
   ]
  },
  {
   "cell_type": "code",
   "execution_count": null,
   "metadata": {
    "code_folding": [
     0
    ],
    "hide_input": false
   },
   "outputs": [],
   "source": [
    "# control widgets\n",
    "from ipywidgets import interact, interactive, HBox, VBox, HTML\n",
    "import ipywidgets as widgets\n",
    "\n",
    "toggle = widgets.ToggleButton(description='Motor',button_style='success', layout = {'left' : '75px'})\n",
    "\n",
    "mode = widgets.Dropdown(options=['Speed', 'Current'],  layout = {'left' : '50px','min_height':'45px'})\n",
    "\n",
    "def clicked(toggle_0=toggle, mode=mode, RPM=None, Iq=None, lamda=None):\n",
    "    if toggle_0:\n",
    "        if mode == 'Speed':\n",
    "            motor.set_mode('rpm_mode')\n",
    "            motor.set_rpm(RPM)\n",
    "            motor._write_controlreg(CONTROL_MPC.offset, int(lamda*126.2466+.5))\n",
    "        elif mode == 'Current':\n",
    "            motor.set_mode('torque_mode')\n",
    "            motor.set_torque(int(Iq/2.814433+.5))\n",
    "            motor._write_controlreg(CONTROL_MPC.offset, int(lamda*126.2466+.5))\n",
    "    else:\n",
    "        motor.set_mode('reset_mode')\n",
    "\n",
    "w = interactive(clicked,\n",
    "                RPM = widgets.IntSlider(min=-4000, max=4000, step=1, value=1000),\n",
    "                Iq = widgets.IntSlider(min=-1250, max=1250, step=1, value=300, description = 'Iq in mA'),\n",
    "                lamda = widgets.FloatSlider(min=0, max=120, step=.79, value=0, description = '\\u03BB_u *1000'))\n",
    "labels = [widgets.Label('(only for FOC)'),\n",
    "          widgets.Label('(Iq set point for FOC and MPC)'),\n",
    "          widgets.Label('(switch cost wheigt for MPC)')]\n",
    "\n",
    "caption = widgets.HTML(\"<b>Use the hardware switch SW0 to change between FOC and MPC.</b>\",\n",
    "                       layout = {'left' : '30px', 'max_width' : '400px'})\n",
    "VBox([caption,\n",
    "      HBox( w.children[:2]), \n",
    "      HBox([w.children[2], labels[0]]),\n",
    "      HBox([w.children[3], labels[1]]),\n",
    "      HBox([w.children[4], labels[2]])])"
   ]
  },
  {
   "cell_type": "code",
   "execution_count": null,
   "metadata": {},
   "outputs": [],
   "source": [
    "motor._write_controlreg(TORQUE_SP.offset,0) #"
   ]
  },
  {
   "cell_type": "code",
   "execution_count": null,
   "metadata": {},
   "outputs": [],
   "source": [
    "motor.set_mode('rpm_mode')\n",
    "motor.set_rpm(2000)"
   ]
  },
  {
   "cell_type": "code",
   "execution_count": null,
   "metadata": {},
   "outputs": [],
   "source": [
    "motor.set_mode('reset_mode')"
   ]
  },
  {
   "cell_type": "code",
   "execution_count": null,
   "metadata": {},
   "outputs": [],
   "source": [
    "motor._read_controlreg(RPM_SP.offset)"
   ]
  },
  {
   "cell_type": "code",
   "execution_count": null,
   "metadata": {},
   "outputs": [],
   "source": [
    "motor._read_controlreg(TORQUE_SP.offset)"
   ]
  },
  {
   "cell_type": "markdown",
   "metadata": {},
   "source": [
    "[Back to Objectives](#Objectives)"
   ]
  },
  {
   "cell_type": "markdown",
   "metadata": {},
   "source": [
    "### Step 4: Read status registers"
   ]
  },
  {
   "cell_type": "code",
   "execution_count": null,
   "metadata": {
    "code_folding": [
     0,
     1
    ]
   },
   "outputs": [],
   "source": [
    "#read status registers \n",
    "motor_status = [(motor._read_controlreg(i + ANGLE.offset)) for i in\n",
    "                range(0, 16, 4)]\n",
    "high_sp, low_sp = bytesplit(motor_status[1])\n",
    "high_id, low_id = bytesplit(motor_status[2])\n",
    "high_iq, low_iq = bytesplit(motor_status[3])\n",
    "print(f'Angle in degrees : {motor_status[0] * 0.36}')\n",
    "print(f'Angle in steps per thousand: {(motor_status[0])}')\n",
    "print(f'Id : {np.int16(low_id) * 2.814433} mAmp')\n",
    "print(f'Iq : {np.int16(low_iq) * 2.814433} mAmp')\n",
    "print(f'Speed in RPM : {-(np.int16(low_sp))}')"
   ]
  },
  {
   "cell_type": "markdown",
   "metadata": {},
   "source": [
    "[Back to Objectives](#Objectives)"
   ]
  },
  {
   "cell_type": "markdown",
   "metadata": {},
   "source": [
    "### Programmatic Control of Motor"
   ]
  },
  {
   "cell_type": "code",
   "execution_count": null,
   "metadata": {
    "code_folding": [
     1
    ]
   },
   "outputs": [],
   "source": [
    "import time\n",
    "for i in range(5, -6, -1):\n",
    "        motor.set_mode('rpm_mode')\n",
    "        motor.set_rpm(i*1000)\n",
    "        print(\"n_target = \" + str(i*1000) + \"rpm\")\n",
    "        time.sleep(.5)\n",
    "        motor_status = [(motor._read_controlreg(SPEED.offset))]\n",
    "        high_sp, low_sp = bytesplit(motor_status[0])\n",
    "        print(f'real RPM : {-(np.int16(low_sp))}')\n",
    "        time.sleep(.5)\n",
    "motor.stop()"
   ]
  },
  {
   "cell_type": "markdown",
   "metadata": {},
   "source": [
    "[Back to Objectives](#Objectives)"
   ]
  },
  {
   "cell_type": "markdown",
   "metadata": {},
   "source": [
    "### Step 5: Allocate DMA for stream capture"
   ]
  },
  {
   "cell_type": "code",
   "execution_count": null,
   "metadata": {
    "code_folding": [
     0
    ]
   },
   "outputs": [],
   "source": [
    "# Allocate DMA Memory\n",
    "from pynq import Xlnk\n",
    "\n",
    "xlnk = Xlnk()\n",
    "input_buffer = xlnk.cma_array(shape=(256,), dtype=np.uint8)\n",
    "\n",
    "capture_address = input_buffer.physical_address\n",
    "#print(f'Physical Address of data stream capture: {hex(capture_address)}')"
   ]
  },
  {
   "cell_type": "markdown",
   "metadata": {},
   "source": [
    "### Step 6: Log stream data as per control mode"
   ]
  },
  {
   "cell_type": "code",
   "execution_count": null,
   "metadata": {
    "code_folding": [
     0
    ],
    "scrolled": true
   },
   "outputs": [],
   "source": [
    "# Capture Interface Widgets\n",
    "import time\n",
    "from pynq import MMIO\n",
    "from ipywidgets import interact, interactive, HBox, VBox, HTML\n",
    "import ipywidgets as widgets\n",
    "\n",
    "mode = widgets.ToggleButtons(\n",
    "    options=[ 'Ia / Ib (filtered)', 'Ia / Ib (raw)',  \n",
    "              'Ialpha / Ibeta', 'Id / Iq','Vd / Vq', \n",
    "              'Valpha / Vbeta', 'Va / Vb / Vc', 'V_PWM', ],\n",
    "    description='Capture:',\n",
    "    button_style= '',\n",
    "    tooltips=['Capture Ia, Ib, RPM and Angle (filtered)', \n",
    "              'Capture Ia, Ib, RPM and Angle (raw)', \n",
    "              'Capture Ialpha, Ibeta, RPM and Angle', \n",
    "              'Capture Id, Iq, RPM and Angle', \n",
    "              'Capture Vd, Vq, RPM and Angle', \n",
    "              'Capture Valpha, Vbeta, RPM and Angle', \n",
    "              'Capture Va, Vb and Vc', \n",
    "              'Capture Va, Vb and Vc with SVPWM'],\n",
    "    layout={'width': '700px'})\n",
    "\n",
    "# e.g. decimation 2 means only every 2nd sample is captured, 3 -> only every 3rd\n",
    "decimation = widgets.IntSlider(\n",
    "    value=2,\n",
    "    min=1,\n",
    "    max=100,\n",
    "    description='Decimation:',\n",
    "    readout_format='d',\n",
    "    layout = {'height': '50px', 'width' : '300px'})\n",
    "\n",
    "sample_count = widgets.IntSlider(\n",
    "    value=4096,\n",
    "    min=32,\n",
    "    max=8192,\n",
    "    step = 32,\n",
    "    description='Sample Count:',\n",
    "    readout_format='d',\n",
    "    layout = {'height': '50px', 'width' : '400px'},\n",
    "    style = {'description_width' : '100px'})\n",
    "\n",
    "Label0 = widgets.Label(\n",
    "    value = \"Ready for next Capture.\",\n",
    "    layout={'width': '300px'})\n",
    "\n",
    "cap_button = widgets.Button(\n",
    "    description='Start the Capture',\n",
    "    button_style='warning',\n",
    "    tooltip='Capture')\n",
    "\n",
    "cap_progress = widgets.IntProgress(\n",
    "    value=0,\n",
    "    min=0,\n",
    "    max=100,\n",
    "    bar_style='info',\n",
    "    layout={'width': '700px'}  )\n",
    "\n",
    "load_button = widgets.Button(\n",
    "    description='Load the Capture',\n",
    "    button_style='',\n",
    "    disabled = True,\n",
    "    tooltip='Read the captured data from the FIFO',\n",
    "    layout={'left': '300px'})\n",
    "\n",
    "display(VBox([mode,\n",
    "              HBox([decimation, sample_count]),\n",
    "              VBox([HBox([Label0, cap_button]), cap_progress]),\n",
    "              load_button]))\n",
    "\n",
    "\n",
    "def fill_FIFO(b):\n",
    "    b.disabled = True\n",
    "    motor._write_controlreg(CONTROL_REG2.offset, mode.index)\n",
    "    motor._write_controlreg(DECIMATION.offset, decimation.value-1)\n",
    "    global capture_count \n",
    "    capture_count = int(sample_count.value/32)\n",
    "    capture_time = capture_count*(decimation.value)/625000\n",
    "    Label0.value = \"Capturing - wait for \" + str(capture_time) + \" seconds...\"\n",
    "    # set ready Signal of Capture unit to low -> FIFO stores all data until it's full\n",
    "    motor.write_capturereg(0,2)\n",
    "    t_start = time.time()\n",
    "    while cap_progress.value < cap_progress.max:\n",
    "        cap_progress.value = int(100*(time.time()-t_start)/capture_time)\n",
    "    Label0.value = \"Capture is stored in FIFO and ready to be read.\"\n",
    "    cap_progress.bar_style = 'success'\n",
    "    load_button.disabled = False\n",
    "\n",
    "def load_data(b):\n",
    "    b.disabled = True\n",
    "    global Signal_1, Signal_2, Signal_3, Label_1, Label_2, Label_3, angle, rpm, YLabel\n",
    "    for name in list(globals().keys()):\n",
    "        if name.startswith('Signal_') or name.startswith('Label_') or name == 'angle' or name == 'rpm':\n",
    "            del globals()[name]\n",
    "    def continuous_capture(capture_count):    \n",
    "        mmio_stream = MMIO(capture_address, 256)\n",
    "        cap_list = [([]) for i in range(4)]\n",
    "        for _ in range(capture_count):\n",
    "            motor.stream_capture(capture_address)\n",
    "            for i in range(4, 260, 4):\n",
    "                stream = mmio_stream.read(i - 4, 4)\n",
    "                highbits, lowbits = bytesplit(stream)\n",
    "                if (i % 8 != 0):\n",
    "                    cap_list[0].extend([(np.int16(lowbits))])\n",
    "                    cap_list[1].extend([(np.int16(highbits))])\n",
    "                else:\n",
    "                    cap_list[2].extend([(np.int16(lowbits))])\n",
    "                    cap_list[3].extend([(np.int16(highbits))])\n",
    "        return cap_list\n",
    "\n",
    "    cap_list = continuous_capture(capture_count)\n",
    "    #Sig1, Sig2, rpm, angle  = cap_list[0], cap_list[1], cap_list[2], cap_list[3]\n",
    "\n",
    "    cap_mode = motor._read_controlreg(CONTROL_REG2.offset)\n",
    "    if cap_mode <= 3:\n",
    "        if cap_mode == 1:\n",
    "            # for the raw adc current values an offset has to be subtracted\n",
    "            Signal_1 = (np.array(cap_list[0])-247) * 2.814433\n",
    "            Signal_2 = (np.array(cap_list[1])-130) * 2.814433\n",
    "            Signal_3 = -Signal_1 - Signal_2\n",
    "            Label_1 = 'I_a_raw'\n",
    "            Label_2 = 'I_b_raw'\n",
    "            Label_3 = 'I_c_raw'\n",
    "        else:\n",
    "            Signal_1 = np.array(cap_list[0]) * 2.814433\n",
    "            Signal_2 = np.array(cap_list[1]) * 2.814433\n",
    "            if cap_mode == 2:\n",
    "                Label_1 = 'I_alpha'\n",
    "                Label_2 = 'I_beta'\n",
    "            elif cap_mode == 3:\n",
    "                Label_1 = 'I_d'\n",
    "                Label_2 = 'I_q'\n",
    "            elif cap_mode == 0:\n",
    "                Signal_3 = -Signal_1 - Signal_2\n",
    "                Label_1 = 'I_a_filtered'\n",
    "                Label_2 = 'I_b_filtered'\n",
    "                Label_3 = 'I_c_filtered'\n",
    "        rpm, angle = cap_list[2], cap_list[3]\n",
    "        YLabel = 'Current in mA'\n",
    "    else:\n",
    "        if cap_mode == 4:\n",
    "            Label_1 = 'V_d'\n",
    "            Label_2 = 'V_q'\n",
    "            angle =  cap_list[2]\n",
    "        elif cap_mode == 5:\n",
    "            Label_1 = 'V_alpha'\n",
    "            Label_2 = 'V_beta'\n",
    "            angle =  cap_list[2]\n",
    "        elif cap_mode == 6:\n",
    "            Label_1 = 'V_a'\n",
    "            Label_2 = 'V_b'\n",
    "            Label_3 = 'V_c'\n",
    "            angle =  cap_list[3]\n",
    "            Signal_3 = np.array(cap_list[2])*0.0002113\n",
    "\n",
    "        elif cap_mode == 7:\n",
    "            Label_1 = 'V_a_PWM'\n",
    "            Label_2 = 'V_b_PWM'\n",
    "            Label_3 = 'V_c_PWM'\n",
    "            Signal_3 = np.array(cap_list[2])*0.0002113\n",
    "        Signal_1 = np.array(cap_list[0]) * 0.0002113\n",
    "        Signal_2 = np.array(cap_list[1]) * 0.0002113\n",
    "        YLabel = 'Voltage in V'\n",
    "    motor.write_capturereg(0,0) # reset the Capture-IP\n",
    "    cap_progress.value, cap_progress.bar_style = 0, 'info'\n",
    "    Label0.value = \"Ready for next Capture.\"\n",
    "    cap_button.disabled = False\n",
    "\n",
    "cap_button.on_click(fill_FIFO)\n",
    "load_button.on_click(load_data)"
   ]
  },
  {
   "cell_type": "markdown",
   "metadata": {},
   "source": [
    "[Back to Objectives](#Objectives)"
   ]
  },
  {
   "cell_type": "markdown",
   "metadata": {},
   "source": [
    "### Step 7: Plotting"
   ]
  },
  {
   "cell_type": "markdown",
   "metadata": {},
   "source": [
    "#### Load Plot Library"
   ]
  },
  {
   "cell_type": "code",
   "execution_count": null,
   "metadata": {},
   "outputs": [],
   "source": [
    "%matplotlib inline\n",
    "import matplotlib.pyplot as plt"
   ]
  },
  {
   "cell_type": "markdown",
   "metadata": {
    "code_folding": [
     0
    ],
    "hide_input": false,
    "scrolled": false
   },
   "source": [
    "#### Signal_1 and Signal_2 vs Sample count"
   ]
  },
  {
   "cell_type": "code",
   "execution_count": null,
   "metadata": {
    "code_folding": [
     0
    ],
    "hide_input": false
   },
   "outputs": [],
   "source": [
    "# plot code\n",
    "fig = plt.figure(figsize=(20, 10))\n",
    "ax = fig.add_subplot(111)\n",
    "ax.plot(Signal_1)\n",
    "ax.plot(Signal_2)\n",
    "#ax.plot(Signal_1-Signal_2)\n",
    "plt.legend((Label_1, Label_2), loc='upper right')\n",
    "ax.set_ylabel(YLabel)\n",
    "plt.show()"
   ]
  },
  {
   "cell_type": "markdown",
   "metadata": {},
   "source": [
    "#### Signal_1 vs Signal_2"
   ]
  },
  {
   "cell_type": "code",
   "execution_count": null,
   "metadata": {
    "code_folding": [
     0
    ],
    "hide_input": false
   },
   "outputs": [],
   "source": [
    "# plot code\n",
    "fig = plt.figure(figsize=(20, 10))\n",
    "ax = fig.add_subplot(111)\n",
    "ax.scatter(Signal_1, Signal_2)\n",
    "#ax.scatter(Signal_1, Signal_3)\n",
    "#ax.scatter(Signal_2, Signal_3)\n",
    "plt.ylabel(Label_2)\n",
    "plt.xlabel(Label_1)\n",
    "plt.show()"
   ]
  },
  {
   "cell_type": "markdown",
   "metadata": {},
   "source": [
    "#### Signal_1, Signal_2 and Signal_3 vs angle"
   ]
  },
  {
   "cell_type": "code",
   "execution_count": null,
   "metadata": {
    "code_folding": [
     0
    ]
   },
   "outputs": [],
   "source": [
    "# plot code\n",
    "import math\n",
    "fig = plt.figure(figsize=(20, 10))\n",
    "ax = fig.add_subplot(111)\n",
    "ax.scatter(angle, Signal_1)\n",
    "ax.scatter(angle, Signal_2)\n",
    "ax.scatter(angle, Signal_3)\n",
    "sin_SP = np.empty((1000))\n",
    "tq_sp = 312#motor._read_controlreg(TORQUE_SP.offset)\n",
    "for idx in range(1000):\n",
    "    sin_SP[idx] = -math.sin(idx/250*math.pi)*tq_sp*2.814\n",
    "ax.plot(sin_SP)\n",
    "ax.plot()\n",
    "plt.legend((Label_1, Label_2, Label_3), loc='upper right')\n",
    "ax.set_ylabel(YLabel)\n",
    "plt.xlabel('angle in 4*pi/999')\n",
    "plt.show()"
   ]
  },
  {
   "cell_type": "markdown",
   "metadata": {},
   "source": [
    "#### RPM and Angle vs Sample count"
   ]
  },
  {
   "cell_type": "code",
   "execution_count": null,
   "metadata": {
    "code_folding": [
     0
    ],
    "scrolled": false
   },
   "outputs": [],
   "source": [
    "# plot code\n",
    "fig = plt.figure(figsize=(20, 10))\n",
    "ax = fig.add_subplot(111)\n",
    "ax.plot(angle)\n",
    "ax.plot(np.array(rpm))\n",
    "plt.legend(('angle', 'rpm'), loc='upper right')\n",
    "plt.show()"
   ]
  },
  {
   "cell_type": "markdown",
   "metadata": {},
   "source": [
    "[Back to Objectives](#Objectives)"
   ]
  },
  {
   "cell_type": "markdown",
   "metadata": {},
   "source": [
    "### Step 8: Stop motor and reset xlnk"
   ]
  },
  {
   "cell_type": "code",
   "execution_count": null,
   "metadata": {},
   "outputs": [],
   "source": [
    "xlnk.xlnk_reset()\n",
    "motor.stop()"
   ]
  },
  {
   "cell_type": "markdown",
   "metadata": {},
   "source": [
    "### Dataframes for analytics"
   ]
  },
  {
   "cell_type": "code",
   "execution_count": null,
   "metadata": {
    "code_folding": [
     2
    ],
    "scrolled": true
   },
   "outputs": [],
   "source": [
    "import pandas as pd\n",
    "\n",
    "data = {'Ia' : Signal_1,\n",
    "        'Ib' : Signal_2,\n",
    "        'angle': angle,\n",
    "        'rpm':  rpm}\n",
    "\n",
    "df = pd.DataFrame(data, columns = ['Ia', 'Ib', 'angle', 'rpm'])\n",
    "df"
   ]
  },
  {
   "cell_type": "code",
   "execution_count": null,
   "metadata": {},
   "outputs": [],
   "source": [
    "df.to_csv('motor_data.txt')"
   ]
  },
  {
   "cell_type": "markdown",
   "metadata": {},
   "source": [
    "[Back to Objectives](#Objectives)"
   ]
  }
 ],
 "metadata": {
  "kernelspec": {
   "display_name": "Python 3",
   "language": "python",
   "name": "python3"
  },
  "language_info": {
   "codemirror_mode": {
    "name": "ipython",
    "version": 3
   },
   "file_extension": ".py",
   "mimetype": "text/x-python",
   "name": "python",
   "nbconvert_exporter": "python",
   "pygments_lexer": "ipython3",
   "version": "3.6.5"
  },
  "varInspector": {
   "cols": {
    "lenName": 16,
    "lenType": 16,
    "lenVar": 40
   },
   "kernels_config": {
    "python": {
     "delete_cmd_postfix": "",
     "delete_cmd_prefix": "del ",
     "library": "var_list.py",
     "varRefreshCmd": "print(var_dic_list())"
    },
    "r": {
     "delete_cmd_postfix": ") ",
     "delete_cmd_prefix": "rm(",
     "library": "var_list.r",
     "varRefreshCmd": "cat(var_dic_list()) "
    }
   },
   "oldHeight": 723,
   "position": {
    "height": "745px",
    "left": "1567px",
    "right": "20px",
    "top": "121px",
    "width": "352px"
   },
   "types_to_exclude": [
    "module",
    "function",
    "builtin_function_or_method",
    "instance",
    "_Feature"
   ],
   "varInspector_section_display": "block",
   "window_display": false
  }
 },
 "nbformat": 4,
 "nbformat_minor": 1
}
