{
 "cells": [
  {
   "cell_type": "markdown",
   "metadata": {},
   "source": [
    "# SPYN - III phase AC motor control"
   ]
  },
  {
   "cell_type": "markdown",
   "metadata": {},
   "source": [
    "<div class=\"alert bg-primary\">This notebook will show control of a 3-phase AC motor using the EDPS (The Electric Drive Power Stage (EDPS) Board, a Trenz Electronic TEC0053, which is connected to the PYNQ-Z1 controller board for the evaluation..</div>"
   ]
  },
  {
   "cell_type": "markdown",
   "metadata": {},
   "source": [
    "![](./images/motor.png)"
   ]
  },
  {
   "cell_type": "markdown",
   "metadata": {},
   "source": [
    " ## Objectives\n",
    " \n",
    " * [Access to Motor Control Parameters](#Step-2:-Instantiate-the-motor-control-object )\n",
    " * [Request Status Information of the Motor](#Step-4:-Read-status-registers)\n",
    " * [Programmatic Control of Motor](#Programmatic-Control-of-Motor)\n",
    " * [Continuous Status Capture from the Motor](#Step-5:-Allocate-DMA-for-stream-capture)\n",
    " * [Plots to Visualize Data Captured](#Plotting)\n",
    " * [Storing Captured Data for Analytics](#Dataframes-for-analytics)\n",
    " * [Live Interactive Plots to Investigate Data](#DASH-Demo)\n",
    " "
   ]
  },
  {
   "cell_type": "markdown",
   "metadata": {},
   "source": [
    "### Step 1: Download the `EDDP` bitstream"
   ]
  },
  {
   "cell_type": "code",
   "execution_count": null,
   "metadata": {},
   "outputs": [],
   "source": [
    "from pynq import Overlay\n",
    "from pynq import MMIO\n",
    "import numpy as np\n",
    "\n",
    "overlay = Overlay(\n",
    "    \"/usr/local/lib/python3.6/dist-packages/spyn/overlays/spyn.bit\")"
   ]
  },
  {
   "cell_type": "markdown",
   "metadata": {},
   "source": [
    "### Step 2: Instantiate the motor control object \n",
    "#### Set the motor mode"
   ]
  },
  {
   "cell_type": "code",
   "execution_count": null,
   "metadata": {},
   "outputs": [],
   "source": [
    "from spyn.lib import *\n",
    "\n",
    "motor = Motor_Controller()\n",
    "print(f'Available motor modes : {motor.motor_modes}')\n"
   ]
  },
  {
   "cell_type": "markdown",
   "metadata": {},
   "source": [
    "#### Available control and status IP blocks"
   ]
  },
  {
   "cell_type": "code",
   "execution_count": null,
   "metadata": {},
   "outputs": [],
   "source": [
    "print(f'Memory mapped IO blocks : {motor.mmio_blocks}')"
   ]
  },
  {
   "cell_type": "markdown",
   "metadata": {},
   "source": [
    "#### Initialize the encoder"
   ]
  },
  {
   "cell_type": "code",
   "execution_count": null,
   "metadata": {},
   "outputs": [],
   "source": [
    "import time\n",
    "motor.set_mode('init_mode')\n",
    "time.sleep(4)\n",
    "motor.set_mode('reset_mode')"
   ]
  },
  {
   "cell_type": "markdown",
   "metadata": {},
   "source": [
    "### Step 3: Set motor control mode and control using sliders"
   ]
  },
  {
   "cell_type": "code",
   "execution_count": null,
   "metadata": {},
   "outputs": [],
   "source": [
    "from ipywidgets import interact, interactive, HBox, VBox\n",
    "import ipywidgets as widgets\n",
    "\n",
    "text = {'Motor': 'success', 'Forward': 'info', 'Reverse': 'warning'}\n",
    "buttons, colors = list(text.keys()), list(text.values())\n",
    "\n",
    "toggle = [\n",
    "    widgets.ToggleButton(description=f'{buttons[i]}',\n",
    "                         button_style=f'{colors[i]}')\n",
    "    for i in range(3)]\n",
    "mode = widgets.Dropdown(options=['Speed', 'Current'])\n",
    "\n",
    "\n",
    "def clicked(toggle_0=toggle[0], mode=mode, toggle_1=toggle[1],\n",
    "            toggle_2=toggle[2], RPM=None, Torque=None):\n",
    "    if toggle_0:\n",
    "        if mode == 'Speed':\n",
    "            motor.set_mode('rpm_mode')\n",
    "            motor.set_rpm(RPM)\n",
    "        elif mode == 'Current':\n",
    "            motor.set_mode('torque_mode')\n",
    "            motor.set_torque(Torque)\n",
    "    else:\n",
    "        motor.stop()\n",
    "\n",
    "\n",
    "w = interactive(clicked,\n",
    "                RPM=widgets.IntSlider(min=-5000, max=5000, step=1, value=1000),\n",
    "                Torque=widgets.IntSlider(min=-400, max=400, step=1, value=0))\n",
    "VBox([HBox(w.children[:2]), w.children[2], w.children[3], w.children[4],\n",
    "      w.children[5]])\n"
   ]
  },
  {
   "cell_type": "markdown",
   "metadata": {},
   "source": [
    "[Back to Objectives](#Objectives)"
   ]
  },
  {
   "cell_type": "markdown",
   "metadata": {},
   "source": [
    "### Step 4: Read status registers"
   ]
  },
  {
   "cell_type": "code",
   "execution_count": null,
   "metadata": {},
   "outputs": [],
   "source": [
    "motor_status = [(motor._read_controlreg(i + ANGLE.offset)) for i in\n",
    "                range(0, 16, 4)]\n",
    "high_sp, low_sp = bytesplit(motor_status[1])\n",
    "high_id, low_id = bytesplit(motor_status[2])\n",
    "high_iq, low_iq = bytesplit(motor_status[3])\n",
    "\n",
    "print(f'Angle in degrees : {motor_status[0] * 0.36}')\n",
    "print(f'Angle in steps per thousand: {(motor_status[0])}')\n",
    "print(f'Id : {np.int16(low_id) * 0.00039} Amp')\n",
    "print(f'Iq : {np.int16(low_iq) * 0.00039} Amp')\n",
    "print(f'Speed in RPM : {-(np.int16(low_sp))}')"
   ]
  },
  {
   "cell_type": "markdown",
   "metadata": {},
   "source": [
    "[Back to Objectives](#Objectives)"
   ]
  },
  {
   "cell_type": "markdown",
   "metadata": {},
   "source": [
    "### Programmatic Control of Motor"
   ]
  },
  {
   "cell_type": "code",
   "execution_count": null,
   "metadata": {},
   "outputs": [],
   "source": [
    "import time\n",
    "motor.set_mode('rpm_mode')\n",
    "for i in range(2):\n",
    "        motor.set_rpm(1000)\n",
    "        time.sleep(1)\n",
    "        motor.set_rpm(0)\n",
    "        time.sleep(2)\n",
    "        motor.set_rpm(-50)\n",
    "        time.sleep(2)\n",
    "        motor.set_rpm(0)\n",
    "        time.sleep(2)\n",
    "motor.stop()"
   ]
  },
  {
   "cell_type": "markdown",
   "metadata": {},
   "source": [
    "[Back to Objectives](#Objectives)"
   ]
  },
  {
   "cell_type": "markdown",
   "metadata": {},
   "source": [
    "###  Set capture mode"
   ]
  },
  {
   "cell_type": "code",
   "execution_count": null,
   "metadata": {},
   "outputs": [],
   "source": [
    "print(f'Available stream capture modes : {motor.motor_capture_modes}')"
   ]
  },
  {
   "cell_type": "code",
   "execution_count": null,
   "metadata": {},
   "outputs": [],
   "source": [
    "motor.capture_mode('ia_ib_rpm_angle')"
   ]
  },
  {
   "cell_type": "markdown",
   "metadata": {},
   "source": [
    "### Step 5: Allocate DMA for stream capture"
   ]
  },
  {
   "cell_type": "code",
   "execution_count": null,
   "metadata": {},
   "outputs": [],
   "source": [
    "from pynq import Xlnk\n",
    "\n",
    "xlnk = Xlnk()\n",
    "input_buffer = xlnk.cma_array(shape=(256,), dtype=np.uint8)\n",
    "\n",
    "capture_address = input_buffer.physical_address"
   ]
  },
  {
   "cell_type": "code",
   "execution_count": null,
   "metadata": {},
   "outputs": [],
   "source": [
    "print(f'Physical Address of data stream capture: {hex(capture_address)}')"
   ]
  },
  {
   "cell_type": "markdown",
   "metadata": {},
   "source": [
    "### Step 6: Log stream data as per control mode"
   ]
  },
  {
   "cell_type": "code",
   "execution_count": null,
   "metadata": {},
   "outputs": [],
   "source": [
    "from pynq import MMIO\n",
    "\n",
    "# capture_count = int(input('Enter capture count: '))\n",
    "capture_count = 128          # capture_count*32 samples are being captured; should be <= 128 (capture-FIFO-depth is 4096) \n",
    "decimation = 1               # e.g. 1 means only every 2nd sample is captured, 3 -> only every 4th\n",
    "\n",
    "motor._write_controlreg(DECIMATION.offset, int(decimation))\n",
    "motor.write_capturereg(0, 2) # start the capture (fill FIFO)\n",
    "time.sleep(capture_count*decimation/3200)        # wait until the capture has finished (important for high decimations)\n",
    "\n",
    "def continuous_capture(capture_count):    # read and process the capture\n",
    "    mmio_stream = MMIO(capture_address, 256)\n",
    "    cap_list = [([]) for i in range(4)]\n",
    "    for _ in range(capture_count):\n",
    "        motor.stream_capture(capture_address)\n",
    "        for i in range(4, 260, 4):\n",
    "            stream = mmio_stream.read(i - 4, 4)\n",
    "            highbits, lowbits = bytesplit(stream)\n",
    "            if (i % 8 != 0):\n",
    "                cap_list[0].extend([(np.int16(lowbits))])\n",
    "                cap_list[1].extend([(np.int16(highbits))])\n",
    "            else:\n",
    "                cap_list[2].extend([(np.int16(lowbits))])\n",
    "                cap_list[3].extend([(np.int16(highbits))])\n",
    "    return cap_list\n",
    "\n",
    "cap_list = continuous_capture(capture_count)\n",
    "Ia, Ib, rpm, angle  = cap_list[0], cap_list[1], cap_list[2], cap_list[3]\n",
    "\n",
    "current_Ia = (np.array(Ia)-245) * 0.00039 # 245 is the offset of the ADC0 raw data (might differ on other EDDPs)\n",
    "current_Ib = (np.array(Ib)-140) * 0.00039 # 140 is the offset of the ADC1 raw data (might differ on other EDDPs)\n",
    "\n",
    "motor.write_capturereg(0,0)  # reset the capture unit"
   ]
  },
  {
   "cell_type": "markdown",
   "metadata": {},
   "source": [
    "[Back to Objectives](#Objectives)"
   ]
  },
  {
   "cell_type": "markdown",
   "metadata": {},
   "source": [
    "### Step 7: Plotting"
   ]
  },
  {
   "cell_type": "markdown",
   "metadata": {},
   "source": [
    " #### Ia vs Sample count"
   ]
  },
  {
   "cell_type": "code",
   "execution_count": null,
   "metadata": {},
   "outputs": [],
   "source": [
    "%matplotlib inline\n",
    "import matplotlib.pyplot as plt\n",
    "fig = plt.figure(figsize=(20, 10))\n",
    "ax = fig.add_subplot(111)\n",
    "ax.plot(current_Ia)\n",
    "plt.show()"
   ]
  },
  {
   "cell_type": "markdown",
   "metadata": {},
   "source": [
    "#### Ib vs Sample count"
   ]
  },
  {
   "cell_type": "code",
   "execution_count": null,
   "metadata": {},
   "outputs": [],
   "source": [
    "fig = plt.figure(figsize=(20, 10))\n",
    "ax = fig.add_subplot(111)\n",
    "ax.plot(current_Ib)\n",
    "plt.ylabel('Ib')\n",
    "plt.show()"
   ]
  },
  {
   "cell_type": "markdown",
   "metadata": {},
   "source": [
    "#### Ia vs Ib"
   ]
  },
  {
   "cell_type": "code",
   "execution_count": null,
   "metadata": {},
   "outputs": [],
   "source": [
    "fig = plt.figure(figsize=(20, 10))\n",
    "ax = fig.add_subplot(111)\n",
    "ax.scatter(current_Ia, current_Ib)\n",
    "plt.show()"
   ]
  },
  {
   "cell_type": "markdown",
   "metadata": {},
   "source": [
    "#### Angle vs Sample count"
   ]
  },
  {
   "cell_type": "code",
   "execution_count": null,
   "metadata": {},
   "outputs": [],
   "source": [
    "fig = plt.figure(figsize=(20, 10))\n",
    "ax = fig.add_subplot(111)\n",
    "ax.plot(angle)\n",
    "plt.show()"
   ]
  },
  {
   "cell_type": "markdown",
   "metadata": {},
   "source": [
    "#### RPM vs Sample count"
   ]
  },
  {
   "cell_type": "code",
   "execution_count": null,
   "metadata": {},
   "outputs": [],
   "source": [
    "fig = plt.figure(figsize=(20, 10))\n",
    "ax = fig.add_subplot(111)\n",
    "ax.plot(rpm)\n",
    "plt.show()"
   ]
  },
  {
   "cell_type": "markdown",
   "metadata": {},
   "source": [
    "[Back to Objectives](#Objectives)"
   ]
  },
  {
   "cell_type": "markdown",
   "metadata": {},
   "source": [
    "### Step 8: Stop motor and reset xlnk"
   ]
  },
  {
   "cell_type": "code",
   "execution_count": null,
   "metadata": {},
   "outputs": [],
   "source": [
    "xlnk.xlnk_reset()\n",
    "motor.stop()"
   ]
  },
  {
   "cell_type": "markdown",
   "metadata": {},
   "source": [
    "### Dataframes for analytics"
   ]
  },
  {
   "cell_type": "code",
   "execution_count": null,
   "metadata": {},
   "outputs": [],
   "source": [
    "import pandas as pd\n",
    "\n",
    "data = {'Ia' : current_Ia,\n",
    "        'Ib' : current_Ib,\n",
    "        'angle':cap_list[3],\n",
    "        'rpm':  cap_list[2]}\n",
    "\n",
    "df = pd.DataFrame(data, columns = ['Ia', 'Ib', 'angle', 'rpm'])\n",
    "df"
   ]
  },
  {
   "cell_type": "code",
   "execution_count": null,
   "metadata": {},
   "outputs": [],
   "source": [
    "df.to_csv('motor_data.txt')"
   ]
  },
  {
   "cell_type": "markdown",
   "metadata": {},
   "source": [
    "[Back to Objectives](#Objectives)"
   ]
  }
 ],
 "metadata": {
  "kernelspec": {
   "display_name": "Python 3",
   "language": "python",
   "name": "python3"
  },
  "language_info": {
   "codemirror_mode": {
    "name": "ipython",
    "version": 3
   },
   "file_extension": ".py",
   "mimetype": "text/x-python",
   "name": "python",
   "nbconvert_exporter": "python",
   "pygments_lexer": "ipython3",
   "version": "3.6.5"
  }
 },
 "nbformat": 4,
 "nbformat_minor": 1
}
